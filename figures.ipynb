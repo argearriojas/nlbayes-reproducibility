{
 "cells": [
  {
   "cell_type": "markdown",
   "metadata": {},
   "source": [
    "# Reproducing Figures\n",
    "\n",
    "This notebook presents an example of how to reproduce the figures published in \n",
    "the paper titled: *\"A Bayesian Noisy Logic Model for Inference of Transcription\n",
    "Factor Activity from Single Cell and Bulk Transcriptomic Data\"*\n",
    "([Arriojas et. al. 2023](https://doi.org/10.1101/2023.05.03.539308)).\n",
    "\n",
    "The setup necessary for running the commands below is explained in the\n",
    "[README](README.md) file.\n",
    "\n",
    "Most of the code cells below display only a wrapper method that generates the desired\n",
    "outputs. To see details of the corresponding code, we should inspect the\n",
    "following scripts:\n",
    "- `py_scripts/figures.py`\n",
    "- `py_scripts/utils.py`\n",
    "- `r_scripts/nlbayes_utils.R`\n",
    "- `r_scripts/common_utils.R`\n",
    "\n",
    "The cells should be run in order, at least the first time. This is because\n",
    "some commands will generate intermediate `CSV` files that are used later.\n",
    "\n",
    "First, we load the python modules"
   ]
  },
  {
   "cell_type": "code",
   "execution_count": null,
   "metadata": {},
   "outputs": [],
   "source": [
    "%load_ext rpy2.ipython\n",
    "from py_scripts import figures, utils"
   ]
  },
  {
   "cell_type": "markdown",
   "metadata": {},
   "source": [
    "By default the cells contain `python` code. However, we make use of the\n",
    "`%%R` magic command to execute `R` code as necessary."
   ]
  },
  {
   "cell_type": "markdown",
   "metadata": {},
   "source": [
    "### Figure 3. Simulations\n",
    "For this experiment we use the command line tool provided in the python package. \n",
    "The `nlb-simulation` command automatically generates simulated networks and\n",
    "differential expression, performs randomization as specified by named parameters\n",
    "and runs the inference algorithm to generate `CSV` files with the results. More\n",
    "details can be found in the\n",
    "[`simulation.py`](https://github.com/umbibio/nlbayes-python/blob/main/nlbayes/commands/simulation.py) script.\n",
    "\n",
    "Note that we save time by only computing 3 replicas for each case, you may wish to set the\n",
    "`--n_replica` to 20 to 30. The commands below perform computations only if necessary."
   ]
  },
  {
   "cell_type": "code",
   "execution_count": null,
   "metadata": {
    "vscode": {
     "languageId": "shellscript"
    }
   },
   "outputs": [],
   "source": [
    "# run simulation with no randomizations\n",
    "!nlb-simulation --n_graphs 5 --n_replica 3 --net_seed  10 --evd_seed  20 --outdir ./data/simulations\n",
    "\n",
    "# run simulations for data randomization experiments\n",
    "!nlb-simulation --n_graphs 5 --n_replica 3 --net_seed  30 --evd_seed  40 --evd_rnd_p 0.25 --outdir ./data/simulations\n",
    "!nlb-simulation --n_graphs 5 --n_replica 3 --net_seed  50 --evd_seed  60 --evd_rnd_p 0.50 --outdir ./data/simulations\n",
    "!nlb-simulation --n_graphs 5 --n_replica 3 --net_seed  70 --evd_seed  80 --evd_rnd_p 0.75 --outdir ./data/simulations\n",
    "!nlb-simulation --n_graphs 5 --n_replica 3 --net_seed  90 --evd_seed 100 --evd_rnd_p 1.00 --outdir ./data/simulations\n",
    "\n",
    "# run simulations for network randomization experiments\n",
    "!nlb-simulation --n_graphs 5 --n_replica 3 --net_seed  30 --evd_seed  40 --net_rnd_p 0.25 --outdir ./data/simulations\n",
    "!nlb-simulation --n_graphs 5 --n_replica 3 --net_seed  50 --evd_seed  60 --net_rnd_p 0.50 --outdir ./data/simulations\n",
    "!nlb-simulation --n_graphs 5 --n_replica 3 --net_seed  70 --evd_seed  80 --net_rnd_p 0.75 --outdir ./data/simulations\n",
    "!nlb-simulation --n_graphs 5 --n_replica 3 --net_seed  90 --evd_seed 100 --net_rnd_p 1.00 --outdir ./data/simulations"
   ]
  },
  {
   "cell_type": "markdown",
   "metadata": {},
   "source": [
    "After generating the results files, we can process them and make Figure 3 with the methods `collect_simulations` and `make_figure_3`."
   ]
  },
  {
   "cell_type": "code",
   "execution_count": null,
   "metadata": {},
   "outputs": [],
   "source": [
    "results, metadata = utils.collect_simulations('./data/simulations')\n",
    "figures.make_figure_3(results)"
   ]
  },
  {
   "cell_type": "markdown",
   "metadata": {},
   "source": [
    "### Figure 4. NLBayes vs Viper\n",
    "First we generate the results for the TF activity inference from the two methods.\n",
    "The R method `compute.inference.comparison` generates three `CSV` files, one for each experiment (e2f3, c-myc, h-ras)."
   ]
  },
  {
   "cell_type": "code",
   "execution_count": null,
   "metadata": {},
   "outputs": [],
   "source": [
    "%%capture\n",
    "%%R\n",
    "\n",
    "source('r_scripts/nlbayes_utils.R')\n",
    "compute.inference.comparison()"
   ]
  },
  {
   "cell_type": "markdown",
   "metadata": {},
   "source": [
    "Once the corresponding `CSV` files are available, we can make the figure."
   ]
  },
  {
   "cell_type": "code",
   "execution_count": null,
   "metadata": {},
   "outputs": [],
   "source": [
    "%%R -w 1000 -h 300 -u px\n",
    "\n",
    "source('r_scripts/figures.R')\n",
    "make.figure.4()"
   ]
  },
  {
   "cell_type": "markdown",
   "metadata": {},
   "source": [
    "To assess for agreement between both methods, we construct the corresponding \n",
    "confusion matrix and use it as a contingency matrix in a fisher exact test\n",
    "with the 'greater' alternative hypothesis, i.e., the true odds ratio is greater\n",
    "than one."
   ]
  },
  {
   "cell_type": "code",
   "execution_count": null,
   "metadata": {},
   "outputs": [],
   "source": [
    "%%R\n",
    "\n",
    "for (exp in c('e2f3', 'myc', 'ras')) {\n",
    "\n",
    "    # read result\n",
    "    filename <- paste0('data/oe_',exp,'_on_net_regulonbrca_nlbayes_and_viper.csv')\n",
    "    df <- read.table(filename, sep = ',', header = TRUE)\n",
    "    df$viper.pvalue[is.na(df$viper.pvalue)] <- 1\n",
    "\n",
    "    # compute contingency table\n",
    "    yy <- sum(df$posterior.p >= 0.2 & df$viper.pvalue <= 0.05)\n",
    "    yn <- sum(df$posterior.p >= 0.2 & df$viper.pvalue > 0.05)\n",
    "    ny <- sum(df$posterior.p < 0.2 & df$viper.pvalue <= 0.05)\n",
    "    nn <- sum(df$posterior.p < 0.2 & df$viper.pvalue > 0.05)\n",
    "    ctable <- matrix(c(yy, ny, yn, nn), nrow=2, ncol=2)\n",
    "\n",
    "    test.result <- fisher.test(ctable, alternative='greater')\n",
    "\n",
    "    # print test\n",
    "    cat(\"Experiment \", exp, \"\\n\")\n",
    "    cat(\"P-value for the agreement between NLBayes and VIPER:\", test.result$p.value, \"\\n\\n\")\n",
    "\n",
    "}"
   ]
  },
  {
   "cell_type": "markdown",
   "metadata": {},
   "source": [
    "### Fig. 5. Comparison to other methods"
   ]
  },
  {
   "cell_type": "markdown",
   "metadata": {},
   "source": [
    "To make figure 5, the `CSV` files from the previous step are needed."
   ]
  },
  {
   "cell_type": "code",
   "execution_count": null,
   "metadata": {},
   "outputs": [],
   "source": [
    "figures.make_figure_5()"
   ]
  },
  {
   "cell_type": "markdown",
   "metadata": {},
   "source": [
    "### Figure 6. Cell lines single-cell"
   ]
  },
  {
   "cell_type": "code",
   "execution_count": null,
   "metadata": {},
   "outputs": [],
   "source": [
    "%%capture\n",
    "%%R\n",
    "\n",
    "source('r_scripts/figures.R')\n",
    "f6 <- make.figure.6()"
   ]
  },
  {
   "cell_type": "code",
   "execution_count": null,
   "metadata": {},
   "outputs": [],
   "source": [
    "%%R -w 1600 -h 1200 -u px\n",
    "f6"
   ]
  },
  {
   "cell_type": "markdown",
   "metadata": {},
   "source": [
    "### Figure 7. GO enrichment"
   ]
  },
  {
   "cell_type": "code",
   "execution_count": null,
   "metadata": {},
   "outputs": [],
   "source": [
    "%%R -w 550 -h 1000 -u px\n",
    "source('r_scripts/figures.R')\n",
    "make.figure.7()"
   ]
  },
  {
   "cell_type": "markdown",
   "metadata": {},
   "source": [
    "### Figure 8. TF activity inference on cell lines"
   ]
  },
  {
   "cell_type": "markdown",
   "metadata": {},
   "source": [
    "Figure 8 requires computing the TF activity inference with NLBayes, on the\n",
    "differential expression data for each cell line versus the primary cells.\n",
    "The function `compute.sc.inference` computes the corresponding tables."
   ]
  },
  {
   "cell_type": "code",
   "execution_count": null,
   "metadata": {},
   "outputs": [],
   "source": [
    "%%capture\n",
    "%%R\n",
    "source('r_scripts/nlbayes_utils.R')\n",
    "compute.sc.inference()"
   ]
  },
  {
   "cell_type": "code",
   "execution_count": null,
   "metadata": {},
   "outputs": [],
   "source": [
    "%%capture\n",
    "%%R\n",
    "source('r_scripts/figures.R')\n",
    "f8 <- make.figure.8()"
   ]
  },
  {
   "cell_type": "code",
   "execution_count": null,
   "metadata": {},
   "outputs": [],
   "source": [
    "%%R -w 800 -h 900 -u px\n",
    "f8"
   ]
  }
 ],
 "metadata": {
  "kernelspec": {
   "display_name": "nlbayes-reproducibility",
   "language": "python",
   "name": "python3"
  },
  "language_info": {
   "codemirror_mode": {
    "name": "ipython",
    "version": 3
   },
   "file_extension": ".py",
   "mimetype": "text/x-python",
   "name": "python",
   "nbconvert_exporter": "python",
   "pygments_lexer": "ipython3",
   "version": "3.11.6"
  }
 },
 "nbformat": 4,
 "nbformat_minor": 2
}
